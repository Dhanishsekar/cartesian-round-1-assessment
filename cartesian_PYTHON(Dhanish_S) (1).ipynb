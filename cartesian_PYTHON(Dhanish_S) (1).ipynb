{
  "nbformat": 4,
  "nbformat_minor": 0,
  "metadata": {
    "colab": {
      "name": "cartesian PYTHON(Dhanish S).ipynb",
      "provenance": []
    },
    "kernelspec": {
      "name": "python3",
      "display_name": "Python 3"
    },
    "language_info": {
      "name": "python"
    }
  },
  "cells": [
    {
      "cell_type": "markdown",
      "source": [
        "**PYTHON PROGRAMMING**"
      ],
      "metadata": {
        "id": "AncJuccfKxWg"
      }
    },
    {
      "cell_type": "markdown",
      "source": [
        "**The problem Statement**\n"
      ],
      "metadata": {
        "id": "qCsYYcprK65p"
      }
    },
    {
      "cell_type": "markdown",
      "source": [
        "The program takes input a short abstract and outputs the following"
      ],
      "metadata": {
        "id": "pQCuBoz-LIRf"
      }
    },
    {
      "cell_type": "markdown",
      "source": [
        "1)prints each word in reverse."
      ],
      "metadata": {
        "id": "1lsoewpRLMOS"
      }
    },
    {
      "cell_type": "markdown",
      "source": [
        "Sample Input:\n",
        "&quot;This declaration represents a political commitment among declaration partners to advance a\n",
        "positive vision for the Internet in this era of a united europe&quot;"
      ],
      "metadata": {
        "id": "u_6lHEL_LDSQ"
      }
    },
    {
      "cell_type": "code",
      "execution_count": 31,
      "metadata": {
        "colab": {
          "base_uri": "https://localhost:8080/",
          "height": 90
        },
        "id": "z5gyhE8EG7f2",
        "outputId": "8332cbcb-3423-4ad0-85cc-531ab1474a33"
      },
      "outputs": [
        {
          "name": "stdout",
          "output_type": "stream",
          "text": [
            "This declaration represents a political commitment among declaration partners to advance a positive vision for the Internet in this era of a united europe\n"
          ]
        },
        {
          "output_type": "execute_result",
          "data": {
            "text/plain": [
              "'Europe united a of era this in internet the for vision positive a advance to partners declaration among commitment political a represents declaration this '"
            ],
            "application/vnd.google.colaboratory.intrinsic+json": {
              "type": "string"
            }
          },
          "metadata": {},
          "execution_count": 31
        }
      ],
      "source": [
        "def rev_String(x):\n",
        "    low_Sen=x.lower()\n",
        "    a= low_Sen.split()[::-1]\n",
        "    b=\"\"\n",
        "    for i in a:\n",
        "        b=b+i+' '\n",
        "    return (b.capitalize())\n",
        "\n",
        "Sen = input()\n",
        "rev_String(Sen)"
      ]
    },
    {
      "cell_type": "markdown",
      "source": [
        "2)prints Top 2 occurring words in sorted order. The words that have occurred most of the\n",
        "time."
      ],
      "metadata": {
        "id": "uiIgw6YCLpBx"
      }
    },
    {
      "cell_type": "code",
      "source": [
        "from collections import Counter\n",
        "\n",
        "def max_Occur(occurence):\n",
        "  occurence=occurence.split()\n",
        "  word=Counter(occurence)\n",
        "  return(word.most_common(2))\n",
        "\n",
        "x=input()\n",
        "p=max_Occur(x)\n",
        "for i in p:\n",
        "  print(\"%s :%d times\"%(i[0],i[1]))"
      ],
      "metadata": {
        "id": "avuSMym8PX59",
        "colab": {
          "base_uri": "https://localhost:8080/"
        },
        "outputId": "9b9b08ee-9721-4ba0-b287-f5bbb6c0bcc0"
      },
      "execution_count": 33,
      "outputs": [
        {
          "output_type": "stream",
          "name": "stdout",
          "text": [
            "&quot;This declaration represents a political commitment among declaration partners to advance a positive vision for the Internet in this era of a united europe&quot;\n",
            "a :3 times\n",
            "declaration :2 times\n"
          ]
        }
      ]
    },
    {
      "cell_type": "code",
      "source": [],
      "metadata": {
        "id": "MLIXh6BMQxeN"
      },
      "execution_count": null,
      "outputs": []
    }
  ]
}